{
 "cells": [
  {
   "cell_type": "code",
   "execution_count": 1,
   "id": "da8d3ad6",
   "metadata": {},
   "outputs": [
    {
     "name": "stdout",
     "output_type": "stream",
     "text": [
      "<module 'tensorflow._api.v2.version' from 'c:\\\\Users\\\\USER\\\\anaconda3\\\\Lib\\\\site-packages\\\\tensorflow\\\\_api\\\\v2\\\\version\\\\__init__.py'>\n"
     ]
    }
   ],
   "source": [
    "import tensorflow as tf\n",
    "print(tf.version)"
   ]
  },
  {
   "cell_type": "code",
   "execution_count": 2,
   "id": "bb257e57",
   "metadata": {},
   "outputs": [],
   "source": [
    "string = tf.Variable(\"Hello, TensorFlow!\", tf.string)\n",
    "number = tf.Variable(324, tf.int16)\n",
    "floating = tf.Variable(3.567, tf.float64)"
   ]
  },
  {
   "cell_type": "code",
   "execution_count": 11,
   "id": "e130bfdb",
   "metadata": {},
   "outputs": [],
   "source": [
    "rank1_tensor = tf.Variable([1, 2, 3], dtype=tf.int16)\n",
    "rank2_tensor = tf.Variable([\n",
    "    [4, 5, 6],\n",
    "    [7, 8, 9],\n",
    "    [10, 11, 12]\n",
    "], dtype=tf.int16)\n",
    "rank3_tensor = tf.Variable([\n",
    "    [\n",
    "        [13, 14, 15],\n",
    "        [16, 17, 18]\n",
    "    ],\n",
    "    [\n",
    "        [19, 20, 21],\n",
    "        [22, 23, 24]\n",
    "    ],\n",
    "    [\n",
    "        [25, 26, 27],\n",
    "        [28, 29, 30]\n",
    "    ]\n",
    "], dtype=tf.int16)\n",
    "rank4_tensor = tf.Variable([\n",
    "    [[\n",
    "        [13, 14, 15],\n",
    "        [16, 17, 18]\n",
    "    ]\n",
    "    ],\n",
    "    [[\n",
    "        [19, 20, 21],\n",
    "        [22, 23, 24]\n",
    "    ]\n",
    "    ],\n",
    "    [[\n",
    "        [25, 26, 27],\n",
    "        [28, 29, 30]\n",
    "    ]\n",
    "    ],\n",
    "    [[\n",
    "        [31, 32, 33],\n",
    "        [34, 35, 36]\n",
    "    ]\n",
    "    ]\n",
    "], dtype=tf.int16)"
   ]
  },
  {
   "cell_type": "code",
   "execution_count": 12,
   "id": "6c57633d",
   "metadata": {},
   "outputs": [
    {
     "data": {
      "text/plain": [
       "<tf.Tensor: shape=(), dtype=int32, numpy=1>"
      ]
     },
     "execution_count": 12,
     "metadata": {},
     "output_type": "execute_result"
    }
   ],
   "source": [
    "tf.rank(rank1_tensor)"
   ]
  },
  {
   "cell_type": "code",
   "execution_count": 13,
   "id": "17e0ea64",
   "metadata": {},
   "outputs": [
    {
     "data": {
      "text/plain": [
       "2"
      ]
     },
     "execution_count": 13,
     "metadata": {},
     "output_type": "execute_result"
    }
   ],
   "source": [
    "tf.rank(rank2_tensor).numpy()"
   ]
  },
  {
   "cell_type": "code",
   "execution_count": 14,
   "id": "fbca77da",
   "metadata": {},
   "outputs": [
    {
     "data": {
      "text/plain": [
       "TensorShape([3, 3])"
      ]
     },
     "execution_count": 14,
     "metadata": {},
     "output_type": "execute_result"
    }
   ],
   "source": [
    "rank2_tensor.shape"
   ]
  },
  {
   "cell_type": "code",
   "execution_count": 15,
   "id": "31297dfb",
   "metadata": {},
   "outputs": [
    {
     "data": {
      "text/plain": [
       "3"
      ]
     },
     "execution_count": 15,
     "metadata": {},
     "output_type": "execute_result"
    }
   ],
   "source": [
    "tf.rank(rank3_tensor).numpy()"
   ]
  },
  {
   "cell_type": "code",
   "execution_count": 16,
   "id": "328ea714",
   "metadata": {},
   "outputs": [
    {
     "name": "stdout",
     "output_type": "stream",
     "text": [
      "[[[13 14 15]\n",
      "  [16 17 18]]\n",
      "\n",
      " [[19 20 21]\n",
      "  [22 23 24]]\n",
      "\n",
      " [[25 26 27]\n",
      "  [28 29 30]]]\n"
     ]
    }
   ],
   "source": [
    "print(rank3_tensor.numpy())"
   ]
  },
  {
   "cell_type": "code",
   "execution_count": 17,
   "id": "23060b07",
   "metadata": {},
   "outputs": [
    {
     "name": "stdout",
     "output_type": "stream",
     "text": [
      "tf.Tensor(\n",
      "[[1]\n",
      " [2]\n",
      " [3]], shape=(3, 1), dtype=int16)\n"
     ]
    }
   ],
   "source": [
    "tensor1 = tf.reshape(rank1_tensor, [3,1])\n",
    "print(tensor1)"
   ]
  },
  {
   "cell_type": "code",
   "execution_count": 18,
   "id": "5d11c04f",
   "metadata": {},
   "outputs": [
    {
     "data": {
      "text/plain": [
       "4"
      ]
     },
     "execution_count": 18,
     "metadata": {},
     "output_type": "execute_result"
    }
   ],
   "source": [
    "\n",
    "tf.rank(rank4_tensor).numpy()   "
   ]
  },
  {
   "cell_type": "code",
   "execution_count": 19,
   "id": "aca44840",
   "metadata": {},
   "outputs": [
    {
     "name": "stdout",
     "output_type": "stream",
     "text": [
      "[[[[13 14 15]\n",
      "   [16 17 18]]]\n",
      "\n",
      "\n",
      " [[[19 20 21]\n",
      "   [22 23 24]]]\n",
      "\n",
      "\n",
      " [[[25 26 27]\n",
      "   [28 29 30]]]\n",
      "\n",
      "\n",
      " [[[31 32 33]\n",
      "   [34 35 36]]]]\n"
     ]
    }
   ],
   "source": [
    "print(rank4_tensor.numpy())"
   ]
  },
  {
   "cell_type": "code",
   "execution_count": 25,
   "id": "13b42294",
   "metadata": {},
   "outputs": [
    {
     "name": "stdout",
     "output_type": "stream",
     "text": [
      "tf.Tensor(\n",
      "[[1 2 3]\n",
      " [4 5 6]], shape=(2, 3), dtype=int32)\n",
      "\n",
      "(2, 3)\n",
      "\n",
      "<dtype: 'int32'>\n",
      "\n",
      "2\n"
     ]
    }
   ],
   "source": [
    "matrix = tf.constant([[1, 2, 3], [4, 5, 6]])\n",
    "print(matrix)\n",
    "print()\n",
    "print(matrix.shape)\n",
    "print()\n",
    "print(matrix.dtype)\n",
    "print()\n",
    "print(tf.rank(matrix).numpy())"
   ]
  },
  {
   "cell_type": "code",
   "execution_count": null,
   "id": "c1209a2b",
   "metadata": {},
   "outputs": [],
   "source": []
  }
 ],
 "metadata": {
  "kernelspec": {
   "display_name": "base",
   "language": "python",
   "name": "python3"
  },
  "language_info": {
   "codemirror_mode": {
    "name": "ipython",
    "version": 3
   },
   "file_extension": ".py",
   "mimetype": "text/x-python",
   "name": "python",
   "nbconvert_exporter": "python",
   "pygments_lexer": "ipython3",
   "version": "3.12.7"
  }
 },
 "nbformat": 4,
 "nbformat_minor": 5
}
