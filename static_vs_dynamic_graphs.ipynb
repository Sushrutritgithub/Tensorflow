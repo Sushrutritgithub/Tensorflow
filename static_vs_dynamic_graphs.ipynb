{
 "cells": [
  {
   "cell_type": "code",
   "execution_count": 1,
   "id": "13d1d168",
   "metadata": {},
   "outputs": [],
   "source": [
    "import tensorflow as tf"
   ]
  },
  {
   "cell_type": "code",
   "execution_count": 2,
   "id": "f63ffdc8",
   "metadata": {},
   "outputs": [
    {
     "name": "stdout",
     "output_type": "stream",
     "text": [
      "5.0\n"
     ]
    }
   ],
   "source": [
    "a = tf.Variable(2.0, dtype=tf.float32)\n",
    "b = tf.Variable(3.0, dtype=tf.float32)\n",
    "c = a + b\n",
    "\n",
    "print(c.numpy())  # Output: 5.0"
   ]
  },
  {
   "cell_type": "code",
   "execution_count": 3,
   "id": "e80f8136",
   "metadata": {},
   "outputs": [
    {
     "name": "stdout",
     "output_type": "stream",
     "text": [
      "Result:  5.0\n"
     ]
    }
   ],
   "source": [
    "@tf.function\n",
    "def add(a, b):\n",
    "    return a + b\n",
    "\n",
    "a = tf.constant(2.0)\n",
    "b = tf.constant(3.0)\n",
    "c = add(a, b)\n",
    "\n",
    "print(\"Result: \", c.numpy())"
   ]
  },
  {
   "cell_type": "code",
   "execution_count": 4,
   "id": "b5a3b55c",
   "metadata": {},
   "outputs": [
    {
     "name": "stdout",
     "output_type": "stream",
     "text": [
      "[ 7  9 11 13 15]\n"
     ]
    }
   ],
   "source": [
    "#Eager Execution\n",
    "a = tf.constant([1, 2, 3, 4, 5])\n",
    "b = tf.constant([6, 7, 8, 9, 10])\n",
    "\n",
    "c = a + b\n",
    "print(c.numpy())  # Output: [ 7  9 11 13 15]"
   ]
  },
  {
   "cell_type": "code",
   "execution_count": 5,
   "id": "8caad4bf",
   "metadata": {},
   "outputs": [
    {
     "name": "stderr",
     "output_type": "stream",
     "text": [
      "c:\\Users\\USER\\anaconda3\\Lib\\site-packages\\keras\\src\\layers\\core\\dense.py:93: UserWarning: Do not pass an `input_shape`/`input_dim` argument to a layer. When using Sequential models, prefer using an `Input(shape)` object as the first layer in the model instead.\n",
      "  super().__init__(activity_regularizer=activity_regularizer, **kwargs)\n"
     ]
    }
   ],
   "source": [
    "# Building a simple neural network with eager execution\n",
    "# Define a simple sequential model\n",
    "model = tf.keras.Sequential([\n",
    "    tf.keras.layers.Dense(10, activation='relu', input_shape=(5,)),\n",
    "    tf.keras.layers.Dense(1)\n",
    " ])"
   ]
  },
  {
   "cell_type": "code",
   "execution_count": 6,
   "id": "65629e64",
   "metadata": {},
   "outputs": [],
   "source": [
    "# Compile the model\n",
    "model.compile(optimizer='adam', loss='mean_squared_error')"
   ]
  },
  {
   "cell_type": "code",
   "execution_count": 7,
   "id": "ecf0d35b",
   "metadata": {},
   "outputs": [],
   "source": [
    "# Generate some random data\n",
    "import numpy as np\n",
    "x = np.random.rand(100, 5)\n",
    "y = np.random.rand(100, 1)"
   ]
  },
  {
   "cell_type": "code",
   "execution_count": 8,
   "id": "14dbc009",
   "metadata": {},
   "outputs": [
    {
     "name": "stdout",
     "output_type": "stream",
     "text": [
      "Epoch 1/5\n",
      "\u001b[1m4/4\u001b[0m \u001b[32m━━━━━━━━━━━━━━━━━━━━\u001b[0m\u001b[37m\u001b[0m \u001b[1m1s\u001b[0m 13ms/step - loss: 0.4306 \n",
      "Epoch 2/5\n",
      "\u001b[1m4/4\u001b[0m \u001b[32m━━━━━━━━━━━━━━━━━━━━\u001b[0m\u001b[37m\u001b[0m \u001b[1m0s\u001b[0m 9ms/step - loss: 0.4275 \n",
      "Epoch 3/5\n",
      "\u001b[1m4/4\u001b[0m \u001b[32m━━━━━━━━━━━━━━━━━━━━\u001b[0m\u001b[37m\u001b[0m \u001b[1m0s\u001b[0m 9ms/step - loss: 0.3824 \n",
      "Epoch 4/5\n",
      "\u001b[1m4/4\u001b[0m \u001b[32m━━━━━━━━━━━━━━━━━━━━\u001b[0m\u001b[37m\u001b[0m \u001b[1m0s\u001b[0m 9ms/step - loss: 0.3601 \n",
      "Epoch 5/5\n",
      "\u001b[1m4/4\u001b[0m \u001b[32m━━━━━━━━━━━━━━━━━━━━\u001b[0m\u001b[37m\u001b[0m \u001b[1m0s\u001b[0m 10ms/step - loss: 0.3323\n"
     ]
    },
    {
     "data": {
      "text/plain": [
       "<keras.src.callbacks.history.History at 0x1b1bf83c860>"
      ]
     },
     "execution_count": 8,
     "metadata": {},
     "output_type": "execute_result"
    }
   ],
   "source": [
    "#Train the model\n",
    "model.fit(x, y, epochs=5)"
   ]
  },
  {
   "cell_type": "code",
   "execution_count": 9,
   "id": "335e73fd",
   "metadata": {},
   "outputs": [
    {
     "name": "stdout",
     "output_type": "stream",
     "text": [
      "\u001b[1m1/1\u001b[0m \u001b[32m━━━━━━━━━━━━━━━━━━━━\u001b[0m\u001b[37m\u001b[0m \u001b[1m0s\u001b[0m 79ms/step\n"
     ]
    }
   ],
   "source": [
    "# Make a Prediction\n",
    "prediction = model.predict(np.random.rand(1, 5))"
   ]
  },
  {
   "cell_type": "code",
   "execution_count": 10,
   "id": "e074bd75",
   "metadata": {},
   "outputs": [
    {
     "name": "stdout",
     "output_type": "stream",
     "text": [
      "Prediction:  [[0.07778889]]\n"
     ]
    }
   ],
   "source": [
    "print(\"Prediction: \", prediction)"
   ]
  },
  {
   "cell_type": "code",
   "execution_count": 12,
   "id": "565ed4fa",
   "metadata": {},
   "outputs": [
    {
     "name": "stdout",
     "output_type": "stream",
     "text": [
      "Epoch 0: Loss: 43.5, w = [[0.35]], b = [[0.13]]\n",
      "Epoch 100: Loss: 0.9866495132446289, w = [[1.8242134]], b = [[1.5767119]]\n",
      "Epoch 200: Loss: 0.5416586399078369, w = [[1.6106905]], b = [[2.2044954]]\n",
      "Epoch 300: Loss: 0.29736441373825073, w = [[1.4524835]], b = [[2.6696432]]\n",
      "Epoch 400: Loss: 0.16324974596500397, w = [[1.3352621]], b = [[3.0142884]]\n",
      "Epoch 500: Loss: 0.0896221399307251, w = [[1.2484082]], b = [[3.2696497]]\n",
      "Epoch 600: Loss: 0.04920169338583946, w = [[1.1840552]], b = [[3.4588554]]\n",
      "Epoch 700: Loss: 0.02701120264828205, w = [[1.1363734]], b = [[3.5990453]]\n",
      "Epoch 800: Loss: 0.014828876592218876, w = [[1.1010443]], b = [[3.7029173]]\n",
      "Epoch 900: Loss: 0.008140930905938148, w = [[1.0748677]], b = [[3.7798796]]\n",
      "Final weights: w = [[1.0556388]], b = [[3.836415]]\n"
     ]
    }
   ],
   "source": [
    "a1 = tf.constant([[1.0], [2.0], [3.0], [4.0]], dtype=tf.float32)\n",
    "a2 = tf.constant([[5.0], [6.0], [7.0], [8.0]], dtype=tf.float32)\n",
    "\n",
    "# defining weights and biases\n",
    "w = tf.Variable([[0.0]], dtype=tf.float32, name='weight')\n",
    "b = tf.Variable([[0.0]], dtype=tf.float32, name='bias')\n",
    "\n",
    "# defining the linear regression model\n",
    "def linear_model(a1):\n",
    "    return tf.matmul(a1, w) + b\n",
    "\n",
    "# defining the loss function (mean squared error)\n",
    "def loss_fn(y_pred, y_true):\n",
    "    return tf.reduce_mean(tf.square(y_pred - y_true))\n",
    "\n",
    "# defining the optimizer\n",
    "optimizer = tf.optimizers.SGD(learning_rate=0.01)\n",
    "# training the model\n",
    "for epoch in range(1000):\n",
    "    with tf.GradientTape() as tape:\n",
    "        y_pred = linear_model(a1)\n",
    "        loss = loss_fn(y_pred, a2)\n",
    "        #Compute gradients\n",
    "        gradients = tape.gradient(loss, [w, b])\n",
    "        #update Optimizer\n",
    "        optimizer.apply_gradients(zip(gradients, [w, b]))\n",
    "    if epoch % 100 == 0:\n",
    "        print(f'Epoch {epoch}: Loss: {loss.numpy()}, w = {w.numpy()}, b = {b.numpy()}')\n",
    "# print final weights and bias\n",
    "print(f'Final weights: w = {w.numpy()}, b = {b.numpy()}')"
   ]
  },
  {
   "cell_type": "code",
   "execution_count": 13,
   "id": "ff48310b",
   "metadata": {},
   "outputs": [],
   "source": [
    "#Use tf.keras.Input or tf.keras.layers.Input to define input tensors in Keras models.\n",
    "from tensorflow.keras.layers import Input\n",
    "input = Input(shape=(32,), name = 'input_layer')"
   ]
  },
  {
   "cell_type": "code",
   "execution_count": 15,
   "id": "2836d867",
   "metadata": {},
   "outputs": [
    {
     "name": "stdout",
     "output_type": "stream",
     "text": [
      "Result:  5.0\n"
     ]
    }
   ],
   "source": [
    "# Eager Execution with Direct Data Feeding\n",
    "def add(a, b):\n",
    "    return a + b\n",
    "\n",
    "a = tf.constant(2.0)\n",
    "b = tf.constant(3.0)\n",
    "c = add(a, b)\n",
    "print(\"Result: \", c.numpy())"
   ]
  },
  {
   "cell_type": "code",
   "execution_count": 16,
   "id": "32506e56",
   "metadata": {},
   "outputs": [
    {
     "name": "stdout",
     "output_type": "stream",
     "text": [
      "14.0\n"
     ]
    }
   ],
   "source": [
    "# tf.function and Autograph\n",
    "@tf.function\n",
    "def compute(a, b):\n",
    "    return a *  b + 2\n",
    "print(compute(3.0, 4.0).numpy())"
   ]
  },
  {
   "cell_type": "code",
   "execution_count": null,
   "id": "98eec344",
   "metadata": {},
   "outputs": [],
   "source": [
    "#Data Pipelines with tf.data\n"
   ]
  }
 ],
 "metadata": {
  "kernelspec": {
   "display_name": "base",
   "language": "python",
   "name": "python3"
  },
  "language_info": {
   "codemirror_mode": {
    "name": "ipython",
    "version": 3
   },
   "file_extension": ".py",
   "mimetype": "text/x-python",
   "name": "python",
   "nbconvert_exporter": "python",
   "pygments_lexer": "ipython3",
   "version": "3.12.7"
  }
 },
 "nbformat": 4,
 "nbformat_minor": 5
}
