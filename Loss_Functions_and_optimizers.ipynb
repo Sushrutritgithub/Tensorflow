{
 "cells": [
  {
   "cell_type": "code",
   "execution_count": 2,
   "id": "131255a8",
   "metadata": {},
   "outputs": [
    {
     "name": "stdout",
     "output_type": "stream",
     "text": [
      "Mean Squared Error: 0.375\n"
     ]
    }
   ],
   "source": [
    "#mean sqared error\n",
    "import numpy as np\n",
    "def mean_squared_error(y_true, y_pred):\n",
    "    return np.mean((y_true - y_pred) ** 2)\n",
    "\n",
    "# Example usage\n",
    "y_true = np.array([3.0, -0.5, 2.0, 7.0])\n",
    "y_pred = np.array([2.5, 0.0, 2.0, 8.0])\n",
    "\n",
    "mse = mean_squared_error(y_true, y_pred)\n",
    "print(f'Mean Squared Error: {mse}')"
   ]
  },
  {
   "cell_type": "code",
   "execution_count": 8,
   "id": "dd915750",
   "metadata": {},
   "outputs": [
    {
     "name": "stdout",
     "output_type": "stream",
     "text": [
      "Mean Absolute Error: 0.5\n"
     ]
    }
   ],
   "source": [
    "def mean_absolute_error(y_true, y_pred):\n",
    "    return np.mean(np.abs(y_true - y_pred))\n",
    "\n",
    "# Example usage\n",
    "mae = mean_absolute_error(y_true, y_pred)\n",
    "print(f'Mean Absolute Error: {mae}')"
   ]
  },
  {
   "cell_type": "code",
   "execution_count": 9,
   "id": "2b4d134b",
   "metadata": {},
   "outputs": [
    {
     "name": "stdout",
     "output_type": "stream",
     "text": [
      "Huber Loss: 0.1875\n"
     ]
    }
   ],
   "source": [
    "#HUber loss\n",
    "def huber_loss(y_true, y_pred, delta=1.0):\n",
    "    is_small_alpha = y_true - y_pred\n",
    "    is_small_is_small_alpha = np.abs(is_small_alpha) <= delta\n",
    "    squared_loss = 0.5 * (is_small_alpha ** 2)\n",
    "    linear_loss = delta * (np.abs(is_small_alpha) - 0.5 * delta)\n",
    "    return np.mean(np.where(is_small_is_small_alpha, squared_loss, linear_loss))\n",
    "\n",
    "huber = huber_loss(y_true, y_pred, delta=1.0)\n",
    "print(f'Huber Loss: {huber}')"
   ]
  },
  {
   "cell_type": "code",
   "execution_count": 10,
   "id": "56328d39",
   "metadata": {},
   "outputs": [
    {
     "name": "stdout",
     "output_type": "stream",
     "text": [
      "Binary Cross-Entropy Loss: -82.03139303213081\n"
     ]
    }
   ],
   "source": [
    "#Binary Cross-Entropy Loss\n",
    "def binary_cross_entropy(y_true, y_pred):\n",
    "    y_pred = np.clip(y_pred, 1e-15, 1 - 1e-15)  # To avoid log(0)\n",
    "    return -np.mean(y_true * np.log(y_pred) + (1 - y_true) * np.log(1 - y_pred))    \n",
    "\n",
    "# Example usage\n",
    "bce = binary_cross_entropy(y_true, y_pred)\n",
    "print(f'Binary Cross-Entropy Loss: {bce}')"
   ]
  },
  {
   "cell_type": "code",
   "execution_count": 11,
   "id": "79684991",
   "metadata": {},
   "outputs": [],
   "source": [
    "#Categorical Cross-Entropy Loss"
   ]
  },
  {
   "cell_type": "code",
   "execution_count": 12,
   "id": "de48e715",
   "metadata": {},
   "outputs": [],
   "source": [
    "# Hinge Loss"
   ]
  },
  {
   "cell_type": "code",
   "execution_count": null,
   "id": "b531a51d",
   "metadata": {},
   "outputs": [],
   "source": []
  }
 ],
 "metadata": {
  "kernelspec": {
   "display_name": "base",
   "language": "python",
   "name": "python3"
  },
  "language_info": {
   "codemirror_mode": {
    "name": "ipython",
    "version": 3
   },
   "file_extension": ".py",
   "mimetype": "text/x-python",
   "name": "python",
   "nbconvert_exporter": "python",
   "pygments_lexer": "ipython3",
   "version": "3.12.7"
  }
 },
 "nbformat": 4,
 "nbformat_minor": 5
}
